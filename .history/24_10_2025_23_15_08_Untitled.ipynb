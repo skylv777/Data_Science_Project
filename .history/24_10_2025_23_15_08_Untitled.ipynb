{
 "cells": [
  {
   "cell_type": "code",
   "execution_count": null,
   "id": "09d41f36-4428-408a-8d6c-2e2eb2553230",
   "metadata": {},
   "outputs": [],
   "source": [
    "library(tidyverse)"
   ]
  },
  {
   "cell_type": "code",
   "execution_count": null,
   "id": "54a06777-2099-407d-b7f4-8a9acb285944",
   "metadata": {},
   "outputs": [],
   "source": [
    "players_data<-read_csv(\"data/players.csv\")\n",
    "sessions_data<-read_csv(\"data/sessions.csv\")\n",
    "head(sessions_data)"
   ]
  },
  {
   "cell_type": "code",
   "execution_count": null,
   "id": "d926fc64-ecee-4b47-ae94-1726e6fd25dc",
   "metadata": {},
   "outputs": [],
   "source": []
  }
 ],
 "metadata": {
  "kernelspec": {
   "display_name": "R",
   "language": "R",
   "name": "ir"
  },
  "language_info": {
   "codemirror_mode": "r",
   "file_extension": ".r",
   "mimetype": "text/x-r-source",
   "name": "R",
   "pygments_lexer": "r",
   "version": "4.3.3"
  }
 },
 "nbformat": 4,
 "nbformat_minor": 5
}
